{
 "cells": [
  {
   "cell_type": "code",
   "execution_count": 2,
   "metadata": {},
   "outputs": [],
   "source": [
    "import os, json, time\n",
    "import gc\n",
    "import IPython.display as display "
   ]
  },
  {
   "cell_type": "code",
   "execution_count": 1,
   "metadata": {},
   "outputs": [],
   "source": [
    "class CFG:\n",
    "    OFFLINE = False #True # for Test offline environment\n",
    "    USE_LLAMA3 = False # for GPU version\n",
    "    USE_GEMMA2 = False # for GPU version only \n",
    "    TASK_GEN = True # for generative Text output task (suitable for RAG project)\n",
    "    model1 = \"meta-llama/Meta-Llama-3-8B-Instruct\"  # llama3 8B\n",
    "    model2 =  \"google/gemma-1.1-2b-it\" #  gemma 2B\n",
    "    model3 = \"google/gemma-7b-it\"# gemma 7B\n",
    "    model4 =  \"google/gemma-2-9b-it\" # gemma 2 9B\n",
    "    model5 =  'yentinglin/Llama-3-Taiwan-8B-Instruct' # Chinese version of llama3\n",
    "    model6 = 'Qwen/Qwen-7B' # support Chinese version \n",
    "    model7 = \"THUDM/chatglm-6b\" # support Chinese version\n",
    "    embedModel1 = 'intfloat/multilingual-e5-small' # for embedding model support chinese\n",
    "    embedModel2 = \"all-MiniLM-L6-v2\"\n",
    "    embedModel3 = \"BAAI/bge-base-en-v1.5\" # for embedding model support chinese\n",
    "    embedModel4 = \"BAAI/bge-m3\" # for multilingual embedding model\n",
    "    \n",
    "\n",
    "\n",
    "    FEW_SHOT_TEST= False#True\n",
    "    USE_RAG = False#False#False #True#True , in this project, prefer use fine tuning for p\n",
    "    USE_WANDB = False#True # for  LLM evalution and debug , track fine tuning performance\n",
    "    USE_TRULENS = False # for LLM evalution For RAG prefer \n",
    "    USE_DEEPEVAL = False # for LLM evalution   (require openAI API key)\n",
    "    USE_TRAIN =  True #True #False#True Much be use GPU for Training \n",
    "    loggingSteps= 10#100 #100, #20, #5,#10,\n",
    "    maxTrainData = 200#3500#5000 #10000#5000 #10000\n",
    "    maxEvalData = 20#100 # 20 \n",
    "    maxToken=  512#768#512#768 # 512 for test only"
   ]
  },
  {
   "cell_type": "code",
   "execution_count": 2,
   "metadata": {},
   "outputs": [
    {
     "name": "stderr",
     "output_type": "stream",
     "text": [
      "2024-07-21 00:30:57.235003: W tensorflow/compiler/tf2tensorrt/utils/py_utils.cc:38] TF-TRT Warning: Could not find TensorRT\n"
     ]
    }
   ],
   "source": [
    "import numpy as np\n",
    "import pandas as pd\n",
    "import transformers\n",
    "import torch\n",
    "from transformers import (AutoTokenizer, \n",
    "                          BitsAndBytesConfig,\n",
    "                         AutoModelForCausalLM,\n",
    "                         TrainingArguments)\n",
    "\n",
    "from langchain_community.document_loaders import (TextLoader,\n",
    "                                                PyPDFLoader)\n",
    "\n",
    "from langchain.prompts.prompt import  PromptTemplate\n",
    "from langchain_community.vectorstores import (FAISS, \n",
    "                                              Chroma \n",
    "                                              )\n",
    "\n",
    "from langchain_text_splitters import (RecursiveCharacterTextSplitter,\n",
    "                                      CharacterTextSplitter ,\n",
    "                                       SentenceTransformersTokenTextSplitter)   \n",
    "\n",
    "\n",
    "from langchain.embeddings import HuggingFaceEmbeddings\n",
    "from datasets import Dataset, DatasetDict, load_dataset\n",
    "\n",
    "\n",
    "import evaluate\n",
    "import trulens"
   ]
  },
  {
   "cell_type": "code",
   "execution_count": 3,
   "metadata": {},
   "outputs": [
    {
     "data": {
      "text/plain": [
       "device(type='cuda')"
      ]
     },
     "execution_count": 3,
     "metadata": {},
     "output_type": "execute_result"
    }
   ],
   "source": [
    "device = torch.device(\"cuda\" if torch.cuda.is_available() else \"cpu\")\n",
    "device"
   ]
  },
  {
   "cell_type": "code",
   "execution_count": 4,
   "metadata": {},
   "outputs": [],
   "source": [
    "def clearMemory():\n",
    "    for _ in range(5):\n",
    "        torch.cuda.empty_cache()\n",
    "        gc.collect()\n",
    "        time.sleep(0.3)"
   ]
  },
  {
   "cell_type": "code",
   "execution_count": null,
   "metadata": {},
   "outputs": [],
   "source": []
  }
 ],
 "metadata": {
  "kernelspec": {
   "display_name": "Python 3",
   "language": "python",
   "name": "python3"
  },
  "language_info": {
   "codemirror_mode": {
    "name": "ipython",
    "version": 3
   },
   "file_extension": ".py",
   "mimetype": "text/x-python",
   "name": "python",
   "nbconvert_exporter": "python",
   "pygments_lexer": "ipython3",
   "version": "3.10.12"
  }
 },
 "nbformat": 4,
 "nbformat_minor": 2
}
